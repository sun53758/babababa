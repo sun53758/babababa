{
  "cells": [
    {
      "cell_type": "markdown",
      "metadata": {
        "id": "view-in-github",
        "colab_type": "text"
      },
      "source": [
        "<a href=\"https://colab.research.google.com/github/sun53758/babababa/blob/master/%E3%80%8C100_100_100_179_500%E3%80%8D%E7%9A%84%E5%89%AF%E6%9C%AC.ipynb\" target=\"_parent\"><img src=\"https://colab.research.google.com/assets/colab-badge.svg\" alt=\"Open In Colab\"/></a>"
      ]
    },
    {
      "cell_type": "code",
      "execution_count": null,
      "metadata": {
        "id": "o2UPSRz9jDw2"
      },
      "outputs": [],
      "source": [
        "import matplotlib.pyplot as plt\n",
        "import numpy as np\n",
        "import pandas as pd\n",
        "import seaborn as sns\n",
        "import tensorflow as tf\n",
        "from tensorflow import keras\n",
        "from tensorflow.keras import layers\n",
        "from tensorflow.keras import Sequential\n",
        "from tensorflow.keras.layers import Dense\n",
        "print(tf.__version__)\n"
      ]
    },
    {
      "cell_type": "code",
      "execution_count": null,
      "metadata": {
        "id": "pRYgwXmKeLUL"
      },
      "outputs": [],
      "source": [
        "from google.colab import drive\n",
        "drive.mount('/content/drive')"
      ]
    },
    {
      "cell_type": "code",
      "execution_count": null,
      "metadata": {
        "id": "Vgw87wXJjLCR"
      },
      "outputs": [],
      "source": [
        "\n",
        "url='/content/drive/MyDrive/專題/日股價.xlsx'\n",
        "data = pd.read_excel(url)\n",
        "fn=[]\n",
        "final=[]\n",
        "final2=[]\n",
        "accy_test=[]\n",
        "accy_train=[]\n",
        "data.tail()"
      ]
    },
    {
      "cell_type": "code",
      "execution_count": null,
      "metadata": {
        "id": "t-wZvTcFjMmo"
      },
      "outputs": [],
      "source": [
        "model = Sequential([\n",
        "  Dense(100, activation='relu', input_shape=[1,]),\n",
        "  Dense(100, activation='relu'),\n",
        "  Dense(100, activation='relu'),\n",
        "  Dense(1)\n",
        "])\n",
        "model.compile(loss='mean_absolute_error', optimizer='adam')"
      ]
    },
    {
      "cell_type": "code",
      "execution_count": null,
      "metadata": {
        "id": "dFkdfGD-jN_o"
      },
      "outputs": [],
      "source": [
        "ss=data.pop('ss')\n",
        "loop=len(data.columns)-1\n",
        "for i in range(loop):\n",
        "  fn.append(data.columns[i+1])\n",
        "loop"
      ]
    },
    {
      "cell_type": "code",
      "execution_count": null,
      "metadata": {
        "id": "ekFGnoqAjPRx"
      },
      "outputs": [],
      "source": [
        "for i in range(loop):\n",
        "  target=data[data.columns[i+1]]\n",
        "  newset=pd.DataFrame(target)\n",
        "\n",
        "  newset=newset.drop(newset.index[-1],axis=0)\n",
        "  ss1=ss.drop(ss.index[0],axis=0)\n",
        "\n",
        "  data2 = pd.concat([ss1, newset], axis=1, join='inner')\n",
        "\n",
        "  train_dataset = data2[0:1026]\n",
        "  test_dataset = data2.drop(train_dataset.index)\n",
        "\n",
        "  train_features = train_dataset.copy()\n",
        "  test_features = test_dataset.copy()\n",
        "  train_labels = train_features.pop('ss')\n",
        "  test_labels = test_features.pop('ss')\n",
        "\n",
        "\n",
        "  train_features=np.expand_dims(train_features,-1)\n",
        "  test_features=np.expand_dims(test_features,-1)\n",
        "  history = model.fit(train_features, train_labels, epochs=100)\n",
        "  hist = pd.DataFrame(history.history)\n",
        "  re=np.array(hist)\n",
        "  final.append(re[-1,0])\n",
        "  test_results = {}\n",
        "  test_results['model'] = model.evaluate(test_features, test_labels, verbose=0)\n",
        "  ds=np.array(test_features)\n",
        "  ys=model.predict(ds)\n",
        "  ys=ys.reshape(ys.shape[0])\n",
        "  yy=[[i,j] for i,j in zip(ys, test_labels)]\n",
        "  yy2=[]\n",
        "  k=0\n",
        "  for i in range(len(yy)-1):\n",
        "    a1=yy[i+1][0]-yy[i][0]\n",
        "    a2=yy[i+1][1]-yy[i][1]\n",
        "    if a1*a2>0:\n",
        "      k=k+1\n",
        "\n",
        "  final2.append(test_results['model'])\n",
        "  accy_test.append(k/(len(yy)-1))"
      ]
    },
    {
      "cell_type": "code",
      "execution_count": null,
      "metadata": {
        "id": "Ll87ThUIjRPI"
      },
      "outputs": [],
      "source": [
        "print(final)\n",
        "print(fn)\n",
        "\n"
      ]
    },
    {
      "cell_type": "code",
      "execution_count": null,
      "metadata": {
        "id": "UjHKEkefjS8Z"
      },
      "outputs": [],
      "source": [
        "final2"
      ]
    },
    {
      "cell_type": "code",
      "execution_count": null,
      "metadata": {
        "id": "soaK1kIkjUSJ"
      },
      "outputs": [],
      "source": [
        "accy_test"
      ]
    }
  ],
  "metadata": {
    "accelerator": "GPU",
    "colab": {
      "provenance": [],
      "mount_file_id": "15mi4JG2m37F6kk1a6FYHGbdI88P-9LKY",
      "authorship_tag": "ABX9TyN8Zm2IzH7B0uuHCYzJJFqe",
      "include_colab_link": true
    },
    "kernelspec": {
      "display_name": "Python 3",
      "name": "python3"
    },
    "language_info": {
      "name": "python"
    }
  },
  "nbformat": 4,
  "nbformat_minor": 0
}